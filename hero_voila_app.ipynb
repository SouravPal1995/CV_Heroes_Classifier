{
 "cells": [
  {
   "cell_type": "code",
   "execution_count": 10,
   "id": "7780ba01",
   "metadata": {},
   "outputs": [],
   "source": [
    "from ipywidgets import widgets\n",
    "from IPython.display import display\n",
    "import io\n",
    "from PIL import Image\n",
    "from fastai.vision.all import *\n",
    "import pathlib "
   ]
  },
  {
   "cell_type": "code",
   "execution_count": 11,
   "id": "71e2e79d",
   "metadata": {},
   "outputs": [],
   "source": [
    "#temp = pathlib.PosixPath\n",
    "#pathlib.PosixPath = pathlib.WindowsPath"
   ]
  },
  {
   "cell_type": "code",
   "execution_count": 12,
   "id": "dcea3f41",
   "metadata": {},
   "outputs": [
    {
     "data": {
      "application/vnd.jupyter.widget-view+json": {
       "model_id": "5726be2a11f349b1a93a667f47af5f83",
       "version_major": 2,
       "version_minor": 0
      },
      "text/plain": [
       "VBox(children=(Label(value='Welcome to the Hero Classifier!'), FileUpload(value={}, accept='.jpeg,.jpg, .png',…"
      ]
     },
     "metadata": {},
     "output_type": "display_data"
    }
   ],
   "source": [
    "path = pathlib.Path()\n",
    "learner_inf = load_learner(path/\"hero_classifier.pkl\")\n",
    "file_upload = widgets.FileUpload(description=\"Upload an image\",\n",
    "                         accept=\".jpeg,.jpg, .png\",\n",
    "                         multiple=False)\n",
    "img_out = widgets.Output()\n",
    "inference = widgets.Label()\n",
    "run_predict = widgets.Button(description=\"Predict\")\n",
    "\n",
    "def event(change):\n",
    "    img_out.clear_output()\n",
    "    img=Image.open(io.BytesIO(file_upload.data[0]))\n",
    "    with img_out:\n",
    "        display(img.to_thumb(250, 250))\n",
    "    pred, pred_idx, prob = learner_inf.predict(file_upload.data[0])\n",
    "    inference.value = f\"Prediction: {pred}, Probability: {prob[pred_idx]}\"\n",
    "    \n",
    "run_predict.on_click(event)\n",
    "\n",
    "display(widgets.VBox([widgets.Label(\"Welcome to the Hero Classifier!\"), file_upload, img_out, run_predict, inference]))"
   ]
  },
  {
   "cell_type": "code",
   "execution_count": null,
   "id": "46e05f72",
   "metadata": {},
   "outputs": [],
   "source": []
  }
 ],
 "metadata": {
  "kernelspec": {
   "display_name": "fastai_ML",
   "language": "python",
   "name": "fastai_ml"
  },
  "language_info": {
   "codemirror_mode": {
    "name": "ipython",
    "version": 3
   },
   "file_extension": ".py",
   "mimetype": "text/x-python",
   "name": "python",
   "nbconvert_exporter": "python",
   "pygments_lexer": "ipython3",
   "version": "3.9.7"
  }
 },
 "nbformat": 4,
 "nbformat_minor": 5
}
